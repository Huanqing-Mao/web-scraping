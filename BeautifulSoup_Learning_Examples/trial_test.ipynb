{
 "cells": [
  {
   "cell_type": "code",
   "execution_count": 2,
   "metadata": {},
   "outputs": [],
   "source": [
    "import requests\n",
    "from bs4 import BeautifulSoup"
   ]
  },
  {
   "cell_type": "code",
   "execution_count": 3,
   "metadata": {},
   "outputs": [],
   "source": [
    "# scraping data\n",
    "url = \"https://www.javatpoint.com/course-of-action-1\"\n",
    "\n",
    "data = requests.get(url)\n",
    "#print(data.text)\n",
    "\n",
    "soup = BeautifulSoup(data.text, \"html.parser\")\n"
   ]
  },
  {
   "cell_type": "code",
   "execution_count": 6,
   "metadata": {},
   "outputs": [
    {
     "data": {
      "text/plain": [
       "[<p class=\"pq\">1) Statement: A severe drought is reported in many states of the country. <br/>\n",
       " Courses of action; </p>,\n",
       " <p class=\"pq\">2) Statement: A large number of people in the city die every year due to polluted drinking water. <br/>\n",
       " Courses of action; </p>,\n",
       " <p class=\"pq\">3) Statement: Due to repeated crop failures, the villagers are facing financial problems and migrating to urban areas.<br/>\n",
       " Courses of action; </p>,\n",
       " <p class=\"pq\">4) Statement: The sale of the product of a company has decreased significantly; the company is worried about the future of the product. <br/>\n",
       " Courses of action;</p>,\n",
       " <p class=\"pq\">5) Statement: The education minister discussed the importance of flexibility in the education system and regretted that the curriculum had not been revised to match the changing needs of students and the education system. <br/>\n",
       " Courses of action:</p>]"
      ]
     },
     "execution_count": 6,
     "metadata": {},
     "output_type": "execute_result"
    }
   ],
   "source": [
    "soup.find_all(\"p\", class_=\"pq\")"
   ]
  },
  {
   "cell_type": "code",
   "execution_count": null,
   "metadata": {},
   "outputs": [],
   "source": []
  }
 ],
 "metadata": {
  "kernelspec": {
   "display_name": "Python 3",
   "language": "python",
   "name": "python3"
  },
  "language_info": {
   "codemirror_mode": {
    "name": "ipython",
    "version": 3
   },
   "file_extension": ".py",
   "mimetype": "text/x-python",
   "name": "python",
   "nbconvert_exporter": "python",
   "pygments_lexer": "ipython3",
   "version": "3.12.3"
  }
 },
 "nbformat": 4,
 "nbformat_minor": 2
}
